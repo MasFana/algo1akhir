{
 "cells": [
  {
   "cell_type": "markdown",
   "metadata": {},
   "source": [
    "Init untuk instalasi pertama"
   ]
  },
  {
   "cell_type": "code",
   "execution_count": 6,
   "metadata": {},
   "outputs": [
    {
     "name": "stdout",
     "output_type": "stream",
     "text": [
      "Requirement already satisfied: pandas in /home/fana/Desktop/Repo/RepoUnej/.venv/lib/python3.11/site-packages (2.1.2)\n",
      "Requirement already satisfied: tabulate in /home/fana/Desktop/Repo/RepoUnej/.venv/lib/python3.11/site-packages (0.9.0)\n",
      "Requirement already satisfied: numpy<2,>=1.23.2 in /home/fana/Desktop/Repo/RepoUnej/.venv/lib/python3.11/site-packages (from pandas) (1.26.1)\n",
      "Requirement already satisfied: python-dateutil>=2.8.2 in /home/fana/Desktop/Repo/RepoUnej/.venv/lib/python3.11/site-packages (from pandas) (2.8.2)\n",
      "Requirement already satisfied: pytz>=2020.1 in /home/fana/Desktop/Repo/RepoUnej/.venv/lib/python3.11/site-packages (from pandas) (2023.3.post1)\n",
      "Requirement already satisfied: tzdata>=2022.1 in /home/fana/Desktop/Repo/RepoUnej/.venv/lib/python3.11/site-packages (from pandas) (2023.3)\n",
      "Requirement already satisfied: six>=1.5 in /home/fana/Desktop/Repo/RepoUnej/.venv/lib/python3.11/site-packages (from python-dateutil>=2.8.2->pandas) (1.16.0)\n"
     ]
    }
   ],
   "source": [
    "import os \n",
    "os.system(\".venv/bin/pip install pandas tabulate\")\n",
    "with open('users.csv',\"w\")as w:\n",
    "    w.write('id,username,password,role\\n')\n",
    "with open(\"produk.csv\",\"w\")as w:\n",
    "    w.write(\"id,nama,harga,stok\\n\")\n",
    "with open(\"absensi.csv\",\"w\")as w:\n",
    "    w.write(\"id,username,jam,tanggal,bulan,tahun\\n\")\n",
    "    "
   ]
  },
  {
   "cell_type": "code",
   "execution_count": 8,
   "metadata": {},
   "outputs": [],
   "source": [
    "from operator import contains\n",
    "import time\n",
    "import pandas as pd\n",
    "from tabulate import tabulate\n",
    "def Input_absen(id,username):\n",
    "    waktu = time.localtime()\n",
    "    waktu_dict = {\n",
    "        \"id\":id,\n",
    "        \"username\":username,\n",
    "        'jam':time.strftime(\"%H:%M:%S\",waktu) ,\n",
    "        'tanggal':waktu.tm_mday,\n",
    "        'bulan':waktu.tm_mon,\n",
    "        'tahun':waktu.tm_year}\n",
    "    df = pd.DataFrame(waktu_dict,index=[0])\n",
    "    df.to_csv(\"absensi.csv\",mode='a',header=False,index=False)\n",
    "    \n",
    "def Jam():\n",
    "    waktu = time.localtime()\n",
    "    waktu_dict = {'jam':time.strftime(\"%H:%M:%S\",waktu) ,'tanggal':waktu.tm_mday, 'bulan':waktu.tm_mon, 'tahun':waktu.tm_year}\n",
    "    return waktu_dict\n",
    "\n",
    "def Cari_absen(collum,data):\n",
    "    df = pd.read_csv(\"absensi.csv\")\n",
    "    if collum == \"bulan\" or collum == \"tahun\" or collum == \"tanggal\":\n",
    "        df = df[df[collum] == int(data)]\n",
    "    else:\n",
    "        df = df[df[collum].str.contains(data)]\n",
    "    print(tabulate(df,headers='keys',tablefmt='psql'))\n",
    "    print(f\"Jumlah Data {data} :\",df.shape[0])\n",
    "\n",
    "Input_absen(1,\"admin\")\n"
   ]
  }
 ],
 "metadata": {
  "kernelspec": {
   "display_name": ".venv",
   "language": "python",
   "name": "python3"
  },
  "language_info": {
   "codemirror_mode": {
    "name": "ipython",
    "version": 3
   },
   "file_extension": ".py",
   "mimetype": "text/x-python",
   "name": "python",
   "nbconvert_exporter": "python",
   "pygments_lexer": "ipython3",
   "version": "3.11.5"
  }
 },
 "nbformat": 4,
 "nbformat_minor": 2
}
